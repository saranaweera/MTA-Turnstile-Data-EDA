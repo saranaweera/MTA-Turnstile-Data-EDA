{
 "cells": [
  {
   "cell_type": "markdown",
   "metadata": {},
   "source": [
    "# MTA Subway Turnstile Traffic - Exploratory Data Analysis #"
   ]
  },
  {
   "cell_type": "markdown",
   "metadata": {},
   "source": [
    "### Problem Statement: ###"
   ]
  },
  {
   "cell_type": "markdown",
   "metadata": {},
   "source": [
    "Identify optimal locations to dispatch a team of surveyors to gather information from subway commuters."
   ]
  },
  {
   "cell_type": "markdown",
   "metadata": {},
   "source": [
    "### Assumptions: ###"
   ]
  },
  {
   "cell_type": "markdown",
   "metadata": {},
   "source": [
    "As a daily subway commuter, based on personal experience, commuters are more willing to talk to a surveyor while waiting for train than when exiting a station. So, the focus of this analysis was limited to entries into stations (commuters exiting stations were excluded)"
   ]
  },
  {
   "cell_type": "markdown",
   "metadata": {},
   "source": [
    "### EDA ###"
   ]
  },
  {
   "cell_type": "markdown",
   "metadata": {},
   "source": [
    "Quick and dirty function to download turnstile data from the MTA website."
   ]
  },
  {
   "cell_type": "code",
   "execution_count": 2,
   "metadata": {
    "collapsed": false
   },
   "outputs": [
    {
     "name": "stdout",
     "output_type": "stream",
     "text": [
      "Trying to Reading : http://web.mta.info/developers/data/nyct/turnstile/turnstile_170301.txt\n",
      "Trying to Reading : http://web.mta.info/developers/data/nyct/turnstile/turnstile_170302.txt\n",
      "Trying to Reading : http://web.mta.info/developers/data/nyct/turnstile/turnstile_170303.txt\n",
      "Trying to Reading : http://web.mta.info/developers/data/nyct/turnstile/turnstile_170304.txt\n",
      "Success!!!\n",
      "Trying to Reading : http://web.mta.info/developers/data/nyct/turnstile/turnstile_170305.txt\n",
      "Trying to Reading : http://web.mta.info/developers/data/nyct/turnstile/turnstile_170306.txt\n",
      "Trying to Reading : http://web.mta.info/developers/data/nyct/turnstile/turnstile_170307.txt\n",
      "Trying to Reading : http://web.mta.info/developers/data/nyct/turnstile/turnstile_170308.txt\n",
      "Trying to Reading : http://web.mta.info/developers/data/nyct/turnstile/turnstile_170309.txt\n",
      "Trying to Reading : http://web.mta.info/developers/data/nyct/turnstile/turnstile_170310.txt\n",
      "Trying to Reading : http://web.mta.info/developers/data/nyct/turnstile/turnstile_170311.txt\n",
      "Success!!!\n",
      "Trying to Reading : http://web.mta.info/developers/data/nyct/turnstile/turnstile_170312.txt\n",
      "Trying to Reading : http://web.mta.info/developers/data/nyct/turnstile/turnstile_170313.txt\n",
      "Trying to Reading : http://web.mta.info/developers/data/nyct/turnstile/turnstile_170314.txt\n",
      "Trying to Reading : http://web.mta.info/developers/data/nyct/turnstile/turnstile_170315.txt\n",
      "Trying to Reading : http://web.mta.info/developers/data/nyct/turnstile/turnstile_170316.txt\n",
      "Trying to Reading : http://web.mta.info/developers/data/nyct/turnstile/turnstile_170317.txt\n",
      "Trying to Reading : http://web.mta.info/developers/data/nyct/turnstile/turnstile_170318.txt\n",
      "Success!!!\n",
      "Trying to Reading : http://web.mta.info/developers/data/nyct/turnstile/turnstile_170319.txt\n",
      "Trying to Reading : http://web.mta.info/developers/data/nyct/turnstile/turnstile_170320.txt\n",
      "Trying to Reading : http://web.mta.info/developers/data/nyct/turnstile/turnstile_170321.txt\n",
      "Trying to Reading : http://web.mta.info/developers/data/nyct/turnstile/turnstile_170322.txt\n",
      "Trying to Reading : http://web.mta.info/developers/data/nyct/turnstile/turnstile_170323.txt\n",
      "Trying to Reading : http://web.mta.info/developers/data/nyct/turnstile/turnstile_170324.txt\n",
      "Trying to Reading : http://web.mta.info/developers/data/nyct/turnstile/turnstile_170325.txt\n",
      "Success!!!\n",
      "Trying to Reading : http://web.mta.info/developers/data/nyct/turnstile/turnstile_170326.txt\n",
      "Trying to Reading : http://web.mta.info/developers/data/nyct/turnstile/turnstile_170327.txt\n",
      "Trying to Reading : http://web.mta.info/developers/data/nyct/turnstile/turnstile_170328.txt\n",
      "Trying to Reading : http://web.mta.info/developers/data/nyct/turnstile/turnstile_170329.txt\n",
      "Trying to Reading : http://web.mta.info/developers/data/nyct/turnstile/turnstile_170330.txt\n",
      "Trying to Reading : http://web.mta.info/developers/data/nyct/turnstile/turnstile_170401.txt\n",
      "Success!!!\n",
      "Trying to Reading : http://web.mta.info/developers/data/nyct/turnstile/turnstile_170402.txt\n",
      "Trying to Reading : http://web.mta.info/developers/data/nyct/turnstile/turnstile_170403.txt\n",
      "Trying to Reading : http://web.mta.info/developers/data/nyct/turnstile/turnstile_170404.txt\n",
      "Trying to Reading : http://web.mta.info/developers/data/nyct/turnstile/turnstile_170405.txt\n",
      "Trying to Reading : http://web.mta.info/developers/data/nyct/turnstile/turnstile_170406.txt\n",
      "Trying to Reading : http://web.mta.info/developers/data/nyct/turnstile/turnstile_170407.txt\n",
      "Trying to Reading : http://web.mta.info/developers/data/nyct/turnstile/turnstile_170408.txt\n",
      "Success!!!\n",
      "Trying to Reading : http://web.mta.info/developers/data/nyct/turnstile/turnstile_170409.txt\n",
      "Trying to Reading : http://web.mta.info/developers/data/nyct/turnstile/turnstile_170410.txt\n",
      "Trying to Reading : http://web.mta.info/developers/data/nyct/turnstile/turnstile_170411.txt\n",
      "Trying to Reading : http://web.mta.info/developers/data/nyct/turnstile/turnstile_170412.txt\n",
      "Trying to Reading : http://web.mta.info/developers/data/nyct/turnstile/turnstile_170413.txt\n",
      "Trying to Reading : http://web.mta.info/developers/data/nyct/turnstile/turnstile_170414.txt\n",
      "Trying to Reading : http://web.mta.info/developers/data/nyct/turnstile/turnstile_170415.txt\n",
      "Success!!!\n",
      "Trying to Reading : http://web.mta.info/developers/data/nyct/turnstile/turnstile_170416.txt\n",
      "Trying to Reading : http://web.mta.info/developers/data/nyct/turnstile/turnstile_170417.txt\n",
      "Trying to Reading : http://web.mta.info/developers/data/nyct/turnstile/turnstile_170418.txt\n",
      "Trying to Reading : http://web.mta.info/developers/data/nyct/turnstile/turnstile_170419.txt\n",
      "Trying to Reading : http://web.mta.info/developers/data/nyct/turnstile/turnstile_170420.txt\n",
      "Trying to Reading : http://web.mta.info/developers/data/nyct/turnstile/turnstile_170421.txt\n",
      "Trying to Reading : http://web.mta.info/developers/data/nyct/turnstile/turnstile_170422.txt\n",
      "Success!!!\n",
      "Trying to Reading : http://web.mta.info/developers/data/nyct/turnstile/turnstile_170423.txt\n",
      "Trying to Reading : http://web.mta.info/developers/data/nyct/turnstile/turnstile_170424.txt\n",
      "Trying to Reading : http://web.mta.info/developers/data/nyct/turnstile/turnstile_170425.txt\n",
      "Trying to Reading : http://web.mta.info/developers/data/nyct/turnstile/turnstile_170426.txt\n",
      "Trying to Reading : http://web.mta.info/developers/data/nyct/turnstile/turnstile_170427.txt\n",
      "Trying to Reading : http://web.mta.info/developers/data/nyct/turnstile/turnstile_170428.txt\n",
      "Trying to Reading : http://web.mta.info/developers/data/nyct/turnstile/turnstile_170429.txt\n",
      "Success!!!\n",
      "Trying to Reading : http://web.mta.info/developers/data/nyct/turnstile/turnstile_170430.txt\n"
     ]
    }
   ],
   "source": [
    "import pandas as pd\n",
    "\n",
    "def importMTAData(startMonthInt, endMonthInt):\n",
    "    df =[]\n",
    "    for m in range(startMonthInt,endMonthInt):\n",
    "        for d in range(1,31):\n",
    "            url = 'http://web.mta.info/developers/data/nyct/turnstile/turnstile_17' + ('%02d') % (m,) + ('%02d') % (d,) + '.txt' \n",
    "            print('Trying to Reading :'+ ' '+ url)\n",
    "            try:\n",
    "                tempDF = pd.read_csv(url)\n",
    "                print('Success!!!')\n",
    "                if len(df) < 1:\n",
    "                    df = tempDF \n",
    "                else:\n",
    "                    df = pd.concat([df,tempDF])\n",
    "            except Exception:\n",
    "                pass\n",
    "    return(df)\n",
    "                \n",
    "\n",
    "#df = pd.read_csv('http://web.mta.info/developers/data/nyct/turnstile/turnstile_170401.txt')\n",
    "\n",
    "df = importMTAData(3,5)"
   ]
  },
  {
   "cell_type": "markdown",
   "metadata": {},
   "source": [
    "Import libraries"
   ]
  },
  {
   "cell_type": "code",
   "execution_count": 51,
   "metadata": {
    "collapsed": false
   },
   "outputs": [
    {
     "name": "stdout",
     "output_type": "stream",
     "text": [
      "Populating the interactive namespace from numpy and matplotlib\n"
     ]
    }
   ],
   "source": [
    "import pandas as pd\n",
    "import matplotlib.pyplot as plt\n",
    "import numpy as np\n",
    "from datetime import datetime as dt\n",
    "import seaborn as sns\n",
    "\n",
    "\n",
    "%pylab inline"
   ]
  },
  {
   "cell_type": "markdown",
   "metadata": {},
   "source": [
    "Examine Pandas and Numpy versions"
   ]
  },
  {
   "cell_type": "code",
   "execution_count": 3,
   "metadata": {
    "collapsed": false
   },
   "outputs": [
    {
     "name": "stdout",
     "output_type": "stream",
     "text": [
      "Pandas version: 0.19.2\n",
      "Numpy version: 1.11.3\n"
     ]
    }
   ],
   "source": [
    "print(\"Pandas version:\",pd.__version__)\n",
    "print(\"Numpy version:\",np.__version__)"
   ]
  },
  {
   "cell_type": "markdown",
   "metadata": {},
   "source": [
    "Stations such as 34th street Penn Station could have multiple lines. Concatenate station and line information"
   ]
  },
  {
   "cell_type": "code",
   "execution_count": 5,
   "metadata": {
    "collapsed": true
   },
   "outputs": [],
   "source": [
    "df['STATION'] = df['STATION'] + \"_\"+ df['LINENAME']"
   ]
  },
  {
   "cell_type": "markdown",
   "metadata": {},
   "source": [
    "Take a look at dates in data to ensure we have good data"
   ]
  },
  {
   "cell_type": "code",
   "execution_count": 10,
   "metadata": {
    "collapsed": false
   },
   "outputs": [
    {
     "data": {
      "text/plain": [
       "array(['02/25/2017', '02/26/2017', '02/27/2017', '02/28/2017',\n",
       "       '03/01/2017', '03/02/2017', '03/03/2017', '03/04/2017',\n",
       "       '03/05/2017', '03/06/2017', '03/07/2017', '03/08/2017',\n",
       "       '03/09/2017', '03/10/2017', '03/11/2017', '03/12/2017',\n",
       "       '03/13/2017', '03/14/2017', '03/15/2017', '03/16/2017',\n",
       "       '03/17/2017', '03/18/2017', '03/19/2017', '03/20/2017',\n",
       "       '03/21/2017', '03/22/2017', '03/23/2017', '03/24/2017',\n",
       "       '03/25/2017', '03/26/2017', '03/27/2017', '03/28/2017',\n",
       "       '03/29/2017', '03/30/2017', '03/31/2017', '04/01/2017',\n",
       "       '04/02/2017', '04/03/2017', '04/04/2017', '04/05/2017',\n",
       "       '04/06/2017', '04/07/2017', '04/08/2017', '04/09/2017',\n",
       "       '04/10/2017', '04/11/2017', '04/12/2017', '04/13/2017',\n",
       "       '04/14/2017', '04/15/2017', '04/16/2017', '04/17/2017',\n",
       "       '04/18/2017', '04/19/2017', '04/20/2017', '04/21/2017',\n",
       "       '04/22/2017', '04/23/2017', '04/24/2017', '04/25/2017',\n",
       "       '04/26/2017', '04/27/2017', '04/28/2017'], dtype=object)"
      ]
     },
     "execution_count": 10,
     "metadata": {},
     "output_type": "execute_result"
    }
   ],
   "source": [
    "df.DATE.unique()"
   ]
  },
  {
   "cell_type": "markdown",
   "metadata": {},
   "source": [
    "Look at the first few rows"
   ]
  },
  {
   "cell_type": "code",
   "execution_count": 11,
   "metadata": {
    "collapsed": false,
    "scrolled": true
   },
   "outputs": [
    {
     "data": {
      "text/html": [
       "<div>\n",
       "<table border=\"1\" class=\"dataframe\">\n",
       "  <thead>\n",
       "    <tr style=\"text-align: right;\">\n",
       "      <th></th>\n",
       "      <th>C/A</th>\n",
       "      <th>UNIT</th>\n",
       "      <th>SCP</th>\n",
       "      <th>STATION</th>\n",
       "      <th>LINENAME</th>\n",
       "      <th>DIVISION</th>\n",
       "      <th>DATE</th>\n",
       "      <th>TIME</th>\n",
       "      <th>DESC</th>\n",
       "      <th>ENTRIES</th>\n",
       "      <th>EXITS</th>\n",
       "    </tr>\n",
       "  </thead>\n",
       "  <tbody>\n",
       "    <tr>\n",
       "      <th>0</th>\n",
       "      <td>A002</td>\n",
       "      <td>R051</td>\n",
       "      <td>02-00-00</td>\n",
       "      <td>59 ST</td>\n",
       "      <td>NQR456W</td>\n",
       "      <td>BMT</td>\n",
       "      <td>02/25/2017</td>\n",
       "      <td>03:00:00</td>\n",
       "      <td>REGULAR</td>\n",
       "      <td>6064627</td>\n",
       "      <td>2055986</td>\n",
       "    </tr>\n",
       "    <tr>\n",
       "      <th>1</th>\n",
       "      <td>A002</td>\n",
       "      <td>R051</td>\n",
       "      <td>02-00-00</td>\n",
       "      <td>59 ST</td>\n",
       "      <td>NQR456W</td>\n",
       "      <td>BMT</td>\n",
       "      <td>02/25/2017</td>\n",
       "      <td>07:00:00</td>\n",
       "      <td>REGULAR</td>\n",
       "      <td>6064645</td>\n",
       "      <td>2055999</td>\n",
       "    </tr>\n",
       "    <tr>\n",
       "      <th>2</th>\n",
       "      <td>A002</td>\n",
       "      <td>R051</td>\n",
       "      <td>02-00-00</td>\n",
       "      <td>59 ST</td>\n",
       "      <td>NQR456W</td>\n",
       "      <td>BMT</td>\n",
       "      <td>02/25/2017</td>\n",
       "      <td>11:00:00</td>\n",
       "      <td>REGULAR</td>\n",
       "      <td>6064712</td>\n",
       "      <td>2056102</td>\n",
       "    </tr>\n",
       "    <tr>\n",
       "      <th>3</th>\n",
       "      <td>A002</td>\n",
       "      <td>R051</td>\n",
       "      <td>02-00-00</td>\n",
       "      <td>59 ST</td>\n",
       "      <td>NQR456W</td>\n",
       "      <td>BMT</td>\n",
       "      <td>02/25/2017</td>\n",
       "      <td>15:00:00</td>\n",
       "      <td>REGULAR</td>\n",
       "      <td>6064903</td>\n",
       "      <td>2056172</td>\n",
       "    </tr>\n",
       "    <tr>\n",
       "      <th>4</th>\n",
       "      <td>A002</td>\n",
       "      <td>R051</td>\n",
       "      <td>02-00-00</td>\n",
       "      <td>59 ST</td>\n",
       "      <td>NQR456W</td>\n",
       "      <td>BMT</td>\n",
       "      <td>02/25/2017</td>\n",
       "      <td>19:00:00</td>\n",
       "      <td>REGULAR</td>\n",
       "      <td>6065267</td>\n",
       "      <td>2056245</td>\n",
       "    </tr>\n",
       "  </tbody>\n",
       "</table>\n",
       "</div>"
      ],
      "text/plain": [
       "    C/A  UNIT       SCP STATION LINENAME DIVISION        DATE      TIME  \\\n",
       "0  A002  R051  02-00-00   59 ST  NQR456W      BMT  02/25/2017  03:00:00   \n",
       "1  A002  R051  02-00-00   59 ST  NQR456W      BMT  02/25/2017  07:00:00   \n",
       "2  A002  R051  02-00-00   59 ST  NQR456W      BMT  02/25/2017  11:00:00   \n",
       "3  A002  R051  02-00-00   59 ST  NQR456W      BMT  02/25/2017  15:00:00   \n",
       "4  A002  R051  02-00-00   59 ST  NQR456W      BMT  02/25/2017  19:00:00   \n",
       "\n",
       "      DESC  ENTRIES  \\\n",
       "0  REGULAR  6064627   \n",
       "1  REGULAR  6064645   \n",
       "2  REGULAR  6064712   \n",
       "3  REGULAR  6064903   \n",
       "4  REGULAR  6065267   \n",
       "\n",
       "   EXITS                                                                 \n",
       "0                                            2055986                     \n",
       "1                                            2055999                     \n",
       "2                                            2056102                     \n",
       "3                                            2056172                     \n",
       "4                                            2056245                     "
      ]
     },
     "execution_count": 11,
     "metadata": {},
     "output_type": "execute_result"
    }
   ],
   "source": [
    "df.head()"
   ]
  },
  {
   "cell_type": "markdown",
   "metadata": {},
   "source": [
    "Looks like column names have spaces, which could end up being annoying with intellisense. Strip spaces from column names"
   ]
  },
  {
   "cell_type": "code",
   "execution_count": 12,
   "metadata": {
    "collapsed": false
   },
   "outputs": [],
   "source": [
    "df.columns = [i.strip() for i in df.columns]"
   ]
  },
  {
   "cell_type": "code",
   "execution_count": 13,
   "metadata": {
    "collapsed": false
   },
   "outputs": [
    {
     "data": {
      "text/plain": [
       "Index(['C/A', 'UNIT', 'SCP', 'STATION', 'LINENAME', 'DIVISION', 'DATE', 'TIME',\n",
       "       'DESC', 'ENTRIES', 'EXITS'],\n",
       "      dtype='object')"
      ]
     },
     "execution_count": 13,
     "metadata": {},
     "output_type": "execute_result"
    }
   ],
   "source": [
    "df.columns"
   ]
  },
  {
   "cell_type": "markdown",
   "metadata": {},
   "source": [
    "Combine date and time columns and create new DateTime column"
   ]
  },
  {
   "cell_type": "code",
   "execution_count": 14,
   "metadata": {
    "collapsed": false
   },
   "outputs": [],
   "source": [
    "# add format to make things faster here\n",
    "df['dateTime'] = pd.to_datetime(df.DATE +' '+ df.TIME, format='%m/%d/%Y %H:%M:%S')"
   ]
  },
  {
   "cell_type": "markdown",
   "metadata": {},
   "source": [
    "Entries and exits columns in the data show the register value at the given time for a given turnstile. Our first approach show below was to group data by date for each turnstile and subtract min from max for entries and exits. However, this didn't work due to outliers in data. In some cases registers were being reset, possibly due to repairs."
   ]
  },
  {
   "cell_type": "code",
   "execution_count": 15,
   "metadata": {
    "collapsed": false,
    "scrolled": true
   },
   "outputs": [
    {
     "data": {
      "text/html": [
       "<div>\n",
       "<table border=\"1\" class=\"dataframe\">\n",
       "  <thead>\n",
       "    <tr style=\"text-align: right;\">\n",
       "      <th></th>\n",
       "      <th>entries_min</th>\n",
       "      <th>entries_max</th>\n",
       "      <th>NoEntries</th>\n",
       "      <th>exits_min</th>\n",
       "      <th>exits_max</th>\n",
       "      <th>NoExits</th>\n",
       "      <th>totalFootTraffic</th>\n",
       "    </tr>\n",
       "  </thead>\n",
       "  <tbody>\n",
       "    <tr>\n",
       "      <th>count</th>\n",
       "      <td>2.953780e+05</td>\n",
       "      <td>2.953780e+05</td>\n",
       "      <td>2.953780e+05</td>\n",
       "      <td>2.953780e+05</td>\n",
       "      <td>2.953780e+05</td>\n",
       "      <td>2.953780e+05</td>\n",
       "      <td>2.953780e+05</td>\n",
       "    </tr>\n",
       "    <tr>\n",
       "      <th>mean</th>\n",
       "      <td>3.625923e+07</td>\n",
       "      <td>3.628615e+07</td>\n",
       "      <td>2.691335e+04</td>\n",
       "      <td>2.885828e+07</td>\n",
       "      <td>2.887959e+07</td>\n",
       "      <td>2.131226e+04</td>\n",
       "      <td>4.822561e+04</td>\n",
       "    </tr>\n",
       "    <tr>\n",
       "      <th>std</th>\n",
       "      <td>1.974338e+08</td>\n",
       "      <td>1.975094e+08</td>\n",
       "      <td>5.579632e+06</td>\n",
       "      <td>1.775061e+08</td>\n",
       "      <td>1.775790e+08</td>\n",
       "      <td>5.184643e+06</td>\n",
       "      <td>1.041379e+07</td>\n",
       "    </tr>\n",
       "    <tr>\n",
       "      <th>min</th>\n",
       "      <td>0.000000e+00</td>\n",
       "      <td>0.000000e+00</td>\n",
       "      <td>0.000000e+00</td>\n",
       "      <td>0.000000e+00</td>\n",
       "      <td>0.000000e+00</td>\n",
       "      <td>0.000000e+00</td>\n",
       "      <td>0.000000e+00</td>\n",
       "    </tr>\n",
       "    <tr>\n",
       "      <th>25%</th>\n",
       "      <td>4.803545e+05</td>\n",
       "      <td>4.822022e+05</td>\n",
       "      <td>2.370000e+02</td>\n",
       "      <td>2.350920e+05</td>\n",
       "      <td>2.360845e+05</td>\n",
       "      <td>1.230000e+02</td>\n",
       "      <td>5.370000e+02</td>\n",
       "    </tr>\n",
       "    <tr>\n",
       "      <th>50%</th>\n",
       "      <td>2.598348e+06</td>\n",
       "      <td>2.599984e+06</td>\n",
       "      <td>7.700000e+02</td>\n",
       "      <td>1.459615e+06</td>\n",
       "      <td>1.460731e+06</td>\n",
       "      <td>4.570000e+02</td>\n",
       "      <td>1.424000e+03</td>\n",
       "    </tr>\n",
       "    <tr>\n",
       "      <th>75%</th>\n",
       "      <td>6.662734e+06</td>\n",
       "      <td>6.667901e+06</td>\n",
       "      <td>1.508000e+03</td>\n",
       "      <td>4.701446e+06</td>\n",
       "      <td>4.703549e+06</td>\n",
       "      <td>1.044000e+03</td>\n",
       "      <td>2.584000e+03</td>\n",
       "    </tr>\n",
       "    <tr>\n",
       "      <th>max</th>\n",
       "      <td>2.130616e+09</td>\n",
       "      <td>2.130616e+09</td>\n",
       "      <td>1.938530e+09</td>\n",
       "      <td>2.087387e+09</td>\n",
       "      <td>2.087387e+09</td>\n",
       "      <td>1.703784e+09</td>\n",
       "      <td>3.457563e+09</td>\n",
       "    </tr>\n",
       "  </tbody>\n",
       "</table>\n",
       "</div>"
      ],
      "text/plain": [
       "        entries_min   entries_max     NoEntries     exits_min     exits_max  \\\n",
       "count  2.953780e+05  2.953780e+05  2.953780e+05  2.953780e+05  2.953780e+05   \n",
       "mean   3.625923e+07  3.628615e+07  2.691335e+04  2.885828e+07  2.887959e+07   \n",
       "std    1.974338e+08  1.975094e+08  5.579632e+06  1.775061e+08  1.775790e+08   \n",
       "min    0.000000e+00  0.000000e+00  0.000000e+00  0.000000e+00  0.000000e+00   \n",
       "25%    4.803545e+05  4.822022e+05  2.370000e+02  2.350920e+05  2.360845e+05   \n",
       "50%    2.598348e+06  2.599984e+06  7.700000e+02  1.459615e+06  1.460731e+06   \n",
       "75%    6.662734e+06  6.667901e+06  1.508000e+03  4.701446e+06  4.703549e+06   \n",
       "max    2.130616e+09  2.130616e+09  1.938530e+09  2.087387e+09  2.087387e+09   \n",
       "\n",
       "            NoExits  totalFootTraffic  \n",
       "count  2.953780e+05      2.953780e+05  \n",
       "mean   2.131226e+04      4.822561e+04  \n",
       "std    5.184643e+06      1.041379e+07  \n",
       "min    0.000000e+00      0.000000e+00  \n",
       "25%    1.230000e+02      5.370000e+02  \n",
       "50%    4.570000e+02      1.424000e+03  \n",
       "75%    1.044000e+03      2.584000e+03  \n",
       "max    1.703784e+09      3.457563e+09  "
      ]
     },
     "execution_count": 15,
     "metadata": {},
     "output_type": "execute_result"
    }
   ],
   "source": [
    "key = ['C/A',\n",
    "'UNIT',\n",
    "'SCP',\n",
    "'STATION',\n",
    " 'DATE']\n",
    "\n",
    "#df['Incr_ENTRIES'] = df.groupby(key).ENTRIES.apply(lambda x: x.order(ascending=True)).diff()\n",
    "#df['Incr_EXITS'] = df.groupby(key).EXITS.diff()\n",
    "entries = df.groupby(key).ENTRIES.agg(['min','max']).reset_index()\n",
    "entries.rename(columns={'min':'entries_min','max':'entries_max'}, inplace=True)\n",
    "\n",
    "entries['NoEntries'] = entries['entries_max'] - entries['entries_min']\n",
    "entries.set_index(key, inplace=True)\n",
    "\n",
    "exits = df.groupby(key).EXITS.agg(['min','max']).reset_index()\n",
    "exits.rename(columns={'min':'exits_min','max':'exits_max'}, inplace=True)\n",
    "exits['NoExits'] = exits['exits_max'] - exits['exits_min']\n",
    "exits.set_index(key, inplace=True)\n",
    "\n",
    "combined = entries.join(exits).reset_index()\n",
    "combined['totalFootTraffic'] = combined.NoEntries + combined.NoExits\n",
    "\n",
    "key = ['C/A',\n",
    "'UNIT',\n",
    "'SCP',\n",
    " 'DATE']\n",
    "\n",
    "combined.groupby('STATION').totalFootTraffic.agg(['sum']).sort_values('sum', ascending=False)\n",
    "\n",
    "combined.describe()"
   ]
  },
  {
   "cell_type": "markdown",
   "metadata": {},
   "source": [
    "Looks like there are outliers. It doesn't make sense 18 Av, 57st and Lorimer St stations show up as top stations for turnstile traffic. Let's dig in to find out what is going on here"
   ]
  },
  {
   "cell_type": "code",
   "execution_count": 29,
   "metadata": {
    "collapsed": false
   },
   "outputs": [
    {
     "data": {
      "text/html": [
       "<div>\n",
       "<table border=\"1\" class=\"dataframe\">\n",
       "  <thead>\n",
       "    <tr style=\"text-align: right;\">\n",
       "      <th></th>\n",
       "      <th>C/A</th>\n",
       "      <th>UNIT</th>\n",
       "      <th>SCP</th>\n",
       "      <th>STATION</th>\n",
       "      <th>DATE</th>\n",
       "      <th>entries_min</th>\n",
       "      <th>entries_max</th>\n",
       "      <th>NoEntries</th>\n",
       "      <th>exits_min</th>\n",
       "      <th>exits_max</th>\n",
       "      <th>NoExits</th>\n",
       "      <th>totalFootTraffic</th>\n",
       "    </tr>\n",
       "  </thead>\n",
       "  <tbody>\n",
       "    <tr>\n",
       "      <th>36759</th>\n",
       "      <td>D008</td>\n",
       "      <td>R392</td>\n",
       "      <td>00-00-02</td>\n",
       "      <td>18 AV</td>\n",
       "      <td>04/13/2017</td>\n",
       "      <td>7661697</td>\n",
       "      <td>1946191222</td>\n",
       "      <td>1938529525</td>\n",
       "      <td>11472818</td>\n",
       "      <td>1358953142</td>\n",
       "      <td>1347480324</td>\n",
       "      <td>3286009849</td>\n",
       "    </tr>\n",
       "    <tr>\n",
       "      <th>156189</th>\n",
       "      <td>N600</td>\n",
       "      <td>R302</td>\n",
       "      <td>00-06-00</td>\n",
       "      <td>57 ST</td>\n",
       "      <td>04/12/2017</td>\n",
       "      <td>9255532</td>\n",
       "      <td>1929351363</td>\n",
       "      <td>1920095831</td>\n",
       "      <td>6083377</td>\n",
       "      <td>1543550781</td>\n",
       "      <td>1537467404</td>\n",
       "      <td>3457563235</td>\n",
       "    </tr>\n",
       "    <tr>\n",
       "      <th>52600</th>\n",
       "      <td>J005</td>\n",
       "      <td>R353</td>\n",
       "      <td>00-06-00</td>\n",
       "      <td>LORIMER ST</td>\n",
       "      <td>03/26/2017</td>\n",
       "      <td>3322993</td>\n",
       "      <td>838882038</td>\n",
       "      <td>835559045</td>\n",
       "      <td>661998</td>\n",
       "      <td>167779677</td>\n",
       "      <td>167117679</td>\n",
       "      <td>1002676724</td>\n",
       "    </tr>\n",
       "    <tr>\n",
       "      <th>119527</th>\n",
       "      <td>N325A</td>\n",
       "      <td>R218</td>\n",
       "      <td>00-05-01</td>\n",
       "      <td>ELMHURST AV</td>\n",
       "      <td>03/31/2017</td>\n",
       "      <td>404</td>\n",
       "      <td>665416726</td>\n",
       "      <td>665416322</td>\n",
       "      <td>86</td>\n",
       "      <td>1703784429</td>\n",
       "      <td>1703784343</td>\n",
       "      <td>2369200665</td>\n",
       "    </tr>\n",
       "    <tr>\n",
       "      <th>257630</th>\n",
       "      <td>R415</td>\n",
       "      <td>R120</td>\n",
       "      <td>00-00-01</td>\n",
       "      <td>MORISN AV/SNDVW</td>\n",
       "      <td>03/01/2017</td>\n",
       "      <td>110</td>\n",
       "      <td>654332345</td>\n",
       "      <td>654332235</td>\n",
       "      <td>508</td>\n",
       "      <td>905991524</td>\n",
       "      <td>905991016</td>\n",
       "      <td>1560323251</td>\n",
       "    </tr>\n",
       "  </tbody>\n",
       "</table>\n",
       "</div>"
      ],
      "text/plain": [
       "          C/A  UNIT       SCP          STATION        DATE  entries_min  \\\n",
       "36759    D008  R392  00-00-02            18 AV  04/13/2017      7661697   \n",
       "156189   N600  R302  00-06-00            57 ST  04/12/2017      9255532   \n",
       "52600    J005  R353  00-06-00       LORIMER ST  03/26/2017      3322993   \n",
       "119527  N325A  R218  00-05-01      ELMHURST AV  03/31/2017          404   \n",
       "257630   R415  R120  00-00-01  MORISN AV/SNDVW  03/01/2017          110   \n",
       "\n",
       "        entries_max   NoEntries  exits_min   exits_max     NoExits  \\\n",
       "36759    1946191222  1938529525   11472818  1358953142  1347480324   \n",
       "156189   1929351363  1920095831    6083377  1543550781  1537467404   \n",
       "52600     838882038   835559045     661998   167779677   167117679   \n",
       "119527    665416726   665416322         86  1703784429  1703784343   \n",
       "257630    654332345   654332235        508   905991524   905991016   \n",
       "\n",
       "        totalFootTraffic  \n",
       "36759         3286009849  \n",
       "156189        3457563235  \n",
       "52600         1002676724  \n",
       "119527        2369200665  \n",
       "257630        1560323251  "
      ]
     },
     "execution_count": 29,
     "metadata": {},
     "output_type": "execute_result"
    }
   ],
   "source": [
    "combined.sort_values('NoEntries', ascending=False).head()"
   ]
  },
  {
   "cell_type": "code",
   "execution_count": 23,
   "metadata": {
    "collapsed": false,
    "scrolled": false
   },
   "outputs": [
    {
     "data": {
      "text/html": [
       "<div>\n",
       "<table border=\"1\" class=\"dataframe\">\n",
       "  <thead>\n",
       "    <tr style=\"text-align: right;\">\n",
       "      <th></th>\n",
       "      <th>C/A</th>\n",
       "      <th>UNIT</th>\n",
       "      <th>SCP</th>\n",
       "      <th>STATION</th>\n",
       "      <th>DATE</th>\n",
       "      <th>entries_min</th>\n",
       "      <th>entries_max</th>\n",
       "      <th>NoEntries</th>\n",
       "      <th>exits_min</th>\n",
       "      <th>exits_max</th>\n",
       "      <th>NoExits</th>\n",
       "      <th>totalFootTraffic</th>\n",
       "    </tr>\n",
       "  </thead>\n",
       "  <tbody>\n",
       "    <tr>\n",
       "      <th>45750</th>\n",
       "      <td>H012</td>\n",
       "      <td>R268</td>\n",
       "      <td>01-06-02</td>\n",
       "      <td>LORIMER ST</td>\n",
       "      <td>03/26/2017</td>\n",
       "      <td>1361258</td>\n",
       "      <td>1361370</td>\n",
       "      <td>112</td>\n",
       "      <td>746620</td>\n",
       "      <td>746666</td>\n",
       "      <td>46</td>\n",
       "      <td>158</td>\n",
       "    </tr>\n",
       "    <tr>\n",
       "      <th>52663</th>\n",
       "      <td>J005</td>\n",
       "      <td>R353</td>\n",
       "      <td>00-06-01</td>\n",
       "      <td>LORIMER ST</td>\n",
       "      <td>03/26/2017</td>\n",
       "      <td>234923084</td>\n",
       "      <td>234923303</td>\n",
       "      <td>219</td>\n",
       "      <td>889316848</td>\n",
       "      <td>889317089</td>\n",
       "      <td>241</td>\n",
       "      <td>460</td>\n",
       "    </tr>\n",
       "    <tr>\n",
       "      <th>52537</th>\n",
       "      <td>J005</td>\n",
       "      <td>R353</td>\n",
       "      <td>00-00-02</td>\n",
       "      <td>LORIMER ST</td>\n",
       "      <td>03/26/2017</td>\n",
       "      <td>1662662</td>\n",
       "      <td>1663066</td>\n",
       "      <td>404</td>\n",
       "      <td>1569261</td>\n",
       "      <td>1569606</td>\n",
       "      <td>345</td>\n",
       "      <td>749</td>\n",
       "    </tr>\n",
       "    <tr>\n",
       "      <th>45687</th>\n",
       "      <td>H012</td>\n",
       "      <td>R268</td>\n",
       "      <td>01-06-01</td>\n",
       "      <td>LORIMER ST</td>\n",
       "      <td>03/26/2017</td>\n",
       "      <td>2716660</td>\n",
       "      <td>2717084</td>\n",
       "      <td>424</td>\n",
       "      <td>1688965</td>\n",
       "      <td>1689035</td>\n",
       "      <td>70</td>\n",
       "      <td>494</td>\n",
       "    </tr>\n",
       "    <tr>\n",
       "      <th>52474</th>\n",
       "      <td>J005</td>\n",
       "      <td>R353</td>\n",
       "      <td>00-00-01</td>\n",
       "      <td>LORIMER ST</td>\n",
       "      <td>03/26/2017</td>\n",
       "      <td>293048</td>\n",
       "      <td>293556</td>\n",
       "      <td>508</td>\n",
       "      <td>116621</td>\n",
       "      <td>116799</td>\n",
       "      <td>178</td>\n",
       "      <td>686</td>\n",
       "    </tr>\n",
       "    <tr>\n",
       "      <th>45624</th>\n",
       "      <td>H012</td>\n",
       "      <td>R268</td>\n",
       "      <td>01-06-00</td>\n",
       "      <td>LORIMER ST</td>\n",
       "      <td>03/26/2017</td>\n",
       "      <td>1391596</td>\n",
       "      <td>1392244</td>\n",
       "      <td>648</td>\n",
       "      <td>1052891</td>\n",
       "      <td>1053179</td>\n",
       "      <td>288</td>\n",
       "      <td>936</td>\n",
       "    </tr>\n",
       "    <tr>\n",
       "      <th>52411</th>\n",
       "      <td>J005</td>\n",
       "      <td>R353</td>\n",
       "      <td>00-00-00</td>\n",
       "      <td>LORIMER ST</td>\n",
       "      <td>03/26/2017</td>\n",
       "      <td>4551954</td>\n",
       "      <td>4552769</td>\n",
       "      <td>815</td>\n",
       "      <td>1482065</td>\n",
       "      <td>1482289</td>\n",
       "      <td>224</td>\n",
       "      <td>1039</td>\n",
       "    </tr>\n",
       "    <tr>\n",
       "      <th>45561</th>\n",
       "      <td>H012</td>\n",
       "      <td>R268</td>\n",
       "      <td>01-00-01</td>\n",
       "      <td>LORIMER ST</td>\n",
       "      <td>03/26/2017</td>\n",
       "      <td>7372475</td>\n",
       "      <td>7373465</td>\n",
       "      <td>990</td>\n",
       "      <td>951680</td>\n",
       "      <td>951906</td>\n",
       "      <td>226</td>\n",
       "      <td>1216</td>\n",
       "    </tr>\n",
       "    <tr>\n",
       "      <th>45498</th>\n",
       "      <td>H012</td>\n",
       "      <td>R268</td>\n",
       "      <td>01-00-00</td>\n",
       "      <td>LORIMER ST</td>\n",
       "      <td>03/26/2017</td>\n",
       "      <td>1180422</td>\n",
       "      <td>1181522</td>\n",
       "      <td>1100</td>\n",
       "      <td>353503</td>\n",
       "      <td>353761</td>\n",
       "      <td>258</td>\n",
       "      <td>1358</td>\n",
       "    </tr>\n",
       "    <tr>\n",
       "      <th>52600</th>\n",
       "      <td>J005</td>\n",
       "      <td>R353</td>\n",
       "      <td>00-06-00</td>\n",
       "      <td>LORIMER ST</td>\n",
       "      <td>03/26/2017</td>\n",
       "      <td>3322993</td>\n",
       "      <td>838882038</td>\n",
       "      <td>835559045</td>\n",
       "      <td>661998</td>\n",
       "      <td>167779677</td>\n",
       "      <td>167117679</td>\n",
       "      <td>1002676724</td>\n",
       "    </tr>\n",
       "  </tbody>\n",
       "</table>\n",
       "</div>"
      ],
      "text/plain": [
       "        C/A  UNIT       SCP     STATION        DATE  entries_min  entries_max  \\\n",
       "45750  H012  R268  01-06-02  LORIMER ST  03/26/2017      1361258      1361370   \n",
       "52663  J005  R353  00-06-01  LORIMER ST  03/26/2017    234923084    234923303   \n",
       "52537  J005  R353  00-00-02  LORIMER ST  03/26/2017      1662662      1663066   \n",
       "45687  H012  R268  01-06-01  LORIMER ST  03/26/2017      2716660      2717084   \n",
       "52474  J005  R353  00-00-01  LORIMER ST  03/26/2017       293048       293556   \n",
       "45624  H012  R268  01-06-00  LORIMER ST  03/26/2017      1391596      1392244   \n",
       "52411  J005  R353  00-00-00  LORIMER ST  03/26/2017      4551954      4552769   \n",
       "45561  H012  R268  01-00-01  LORIMER ST  03/26/2017      7372475      7373465   \n",
       "45498  H012  R268  01-00-00  LORIMER ST  03/26/2017      1180422      1181522   \n",
       "52600  J005  R353  00-06-00  LORIMER ST  03/26/2017      3322993    838882038   \n",
       "\n",
       "       NoEntries  exits_min  exits_max    NoExits  totalFootTraffic  \n",
       "45750        112     746620     746666         46               158  \n",
       "52663        219  889316848  889317089        241               460  \n",
       "52537        404    1569261    1569606        345               749  \n",
       "45687        424    1688965    1689035         70               494  \n",
       "52474        508     116621     116799        178               686  \n",
       "45624        648    1052891    1053179        288               936  \n",
       "52411        815    1482065    1482289        224              1039  \n",
       "45561        990     951680     951906        226              1216  \n",
       "45498       1100     353503     353761        258              1358  \n",
       "52600  835559045     661998  167779677  167117679        1002676724  "
      ]
     },
     "execution_count": 23,
     "metadata": {},
     "output_type": "execute_result"
    }
   ],
   "source": [
    "combined[(combined['STATION']=='LORIMER ST') & (combined.DATE == '03/26/2017')].sort_values('NoEntries')"
   ]
  },
  {
   "cell_type": "markdown",
   "metadata": {},
   "source": [
    "Here is an example of a turnstile at Lorimer Street that jumped ahead by order of magnitudes"
   ]
  },
  {
   "cell_type": "code",
   "execution_count": 28,
   "metadata": {
    "collapsed": false
   },
   "outputs": [
    {
     "data": {
      "text/html": [
       "<div>\n",
       "<table border=\"1\" class=\"dataframe\">\n",
       "  <thead>\n",
       "    <tr style=\"text-align: right;\">\n",
       "      <th></th>\n",
       "      <th>C/A</th>\n",
       "      <th>UNIT</th>\n",
       "      <th>SCP</th>\n",
       "      <th>STATION</th>\n",
       "      <th>LINENAME</th>\n",
       "      <th>DIVISION</th>\n",
       "      <th>DATE</th>\n",
       "      <th>TIME</th>\n",
       "      <th>DESC</th>\n",
       "      <th>ENTRIES</th>\n",
       "      <th>EXITS</th>\n",
       "      <th>dateTime</th>\n",
       "    </tr>\n",
       "  </thead>\n",
       "  <tbody>\n",
       "    <tr>\n",
       "      <th>36038</th>\n",
       "      <td>J005</td>\n",
       "      <td>R353</td>\n",
       "      <td>00-06-00</td>\n",
       "      <td>LORIMER ST</td>\n",
       "      <td>JM</td>\n",
       "      <td>BMT</td>\n",
       "      <td>03/26/2017</td>\n",
       "      <td>01:00:00</td>\n",
       "      <td>REGULAR</td>\n",
       "      <td>3322993</td>\n",
       "      <td>661998</td>\n",
       "      <td>2017-03-26 01:00:00</td>\n",
       "    </tr>\n",
       "    <tr>\n",
       "      <th>36039</th>\n",
       "      <td>J005</td>\n",
       "      <td>R353</td>\n",
       "      <td>00-06-00</td>\n",
       "      <td>LORIMER ST</td>\n",
       "      <td>JM</td>\n",
       "      <td>BMT</td>\n",
       "      <td>03/26/2017</td>\n",
       "      <td>05:00:00</td>\n",
       "      <td>REGULAR</td>\n",
       "      <td>3322999</td>\n",
       "      <td>662005</td>\n",
       "      <td>2017-03-26 05:00:00</td>\n",
       "    </tr>\n",
       "    <tr>\n",
       "      <th>36040</th>\n",
       "      <td>J005</td>\n",
       "      <td>R353</td>\n",
       "      <td>00-06-00</td>\n",
       "      <td>LORIMER ST</td>\n",
       "      <td>JM</td>\n",
       "      <td>BMT</td>\n",
       "      <td>03/26/2017</td>\n",
       "      <td>13:00:00</td>\n",
       "      <td>REGULAR</td>\n",
       "      <td>838881750</td>\n",
       "      <td>167779612</td>\n",
       "      <td>2017-03-26 13:00:00</td>\n",
       "    </tr>\n",
       "    <tr>\n",
       "      <th>36041</th>\n",
       "      <td>J005</td>\n",
       "      <td>R353</td>\n",
       "      <td>00-06-00</td>\n",
       "      <td>LORIMER ST</td>\n",
       "      <td>JM</td>\n",
       "      <td>BMT</td>\n",
       "      <td>03/26/2017</td>\n",
       "      <td>17:00:00</td>\n",
       "      <td>REGULAR</td>\n",
       "      <td>838881947</td>\n",
       "      <td>167779647</td>\n",
       "      <td>2017-03-26 17:00:00</td>\n",
       "    </tr>\n",
       "    <tr>\n",
       "      <th>36042</th>\n",
       "      <td>J005</td>\n",
       "      <td>R353</td>\n",
       "      <td>00-06-00</td>\n",
       "      <td>LORIMER ST</td>\n",
       "      <td>JM</td>\n",
       "      <td>BMT</td>\n",
       "      <td>03/26/2017</td>\n",
       "      <td>21:00:00</td>\n",
       "      <td>REGULAR</td>\n",
       "      <td>838882038</td>\n",
       "      <td>167779677</td>\n",
       "      <td>2017-03-26 21:00:00</td>\n",
       "    </tr>\n",
       "  </tbody>\n",
       "</table>\n",
       "</div>"
      ],
      "text/plain": [
       "        C/A  UNIT       SCP     STATION LINENAME DIVISION        DATE  \\\n",
       "36038  J005  R353  00-06-00  LORIMER ST       JM      BMT  03/26/2017   \n",
       "36039  J005  R353  00-06-00  LORIMER ST       JM      BMT  03/26/2017   \n",
       "36040  J005  R353  00-06-00  LORIMER ST       JM      BMT  03/26/2017   \n",
       "36041  J005  R353  00-06-00  LORIMER ST       JM      BMT  03/26/2017   \n",
       "36042  J005  R353  00-06-00  LORIMER ST       JM      BMT  03/26/2017   \n",
       "\n",
       "           TIME     DESC    ENTRIES      EXITS            dateTime  \n",
       "36038  01:00:00  REGULAR    3322993     661998 2017-03-26 01:00:00  \n",
       "36039  05:00:00  REGULAR    3322999     662005 2017-03-26 05:00:00  \n",
       "36040  13:00:00  REGULAR  838881750  167779612 2017-03-26 13:00:00  \n",
       "36041  17:00:00  REGULAR  838881947  167779647 2017-03-26 17:00:00  \n",
       "36042  21:00:00  REGULAR  838882038  167779677 2017-03-26 21:00:00  "
      ]
     },
     "execution_count": 28,
     "metadata": {},
     "output_type": "execute_result"
    }
   ],
   "source": [
    "df[(df.STATION=='LORIMER ST') & \n",
    "   (df.DATE == '03/26/2017') & \n",
    "   (df.UNIT =='R353') &\n",
    "   (df.SCP == '00-06-00')].sort_values('dateTime')"
   ]
  },
  {
   "cell_type": "markdown",
   "metadata": {},
   "source": [
    "### Second Approach: ###"
   ]
  },
  {
   "cell_type": "markdown",
   "metadata": {},
   "source": [
    "Group by and then calculate diffs between entries/exits to get incremental entries/exits"
   ]
  },
  {
   "cell_type": "code",
   "execution_count": 30,
   "metadata": {
    "collapsed": false
   },
   "outputs": [],
   "source": [
    "key = ['C/A',\n",
    "'UNIT',\n",
    "'SCP',\n",
    "'STATION']\n",
    "\n",
    "def calcDiff(df):\n",
    "    df = df.sort_values('dateTime')\n",
    "    df['Incr_ENTRIES'] =  df.ENTRIES - df.ENTRIES.shift(1)\n",
    "    df['Incr_EXITS'] = df.EXITS - df.EXITS.shift(1)\n",
    "    return(df)\n",
    "\n",
    "\n",
    "newDF = df.groupby(key, as_index=False).apply(lambda x: calcDiff(x)).reset_index()"
   ]
  },
  {
   "cell_type": "markdown",
   "metadata": {},
   "source": [
    "Rename new columns"
   ]
  },
  {
   "cell_type": "code",
   "execution_count": 31,
   "metadata": {
    "collapsed": false
   },
   "outputs": [],
   "source": [
    "newDF = newDF[list(df.columns.values) + ['Incr_ENTRIES', 'Incr_EXITS']]"
   ]
  },
  {
   "cell_type": "markdown",
   "metadata": {},
   "source": [
    "### Control for outliers ###"
   ]
  },
  {
   "cell_type": "code",
   "execution_count": 33,
   "metadata": {
    "collapsed": false
   },
   "outputs": [
    {
     "data": {
      "text/plain": [
       "REGULAR       1765283\n",
       "RECOVR AUD      11851\n",
       "Name: DESC, dtype: int64"
      ]
     },
     "execution_count": 33,
     "metadata": {},
     "output_type": "execute_result"
    }
   ],
   "source": [
    "newDF.DESC.value_counts()"
   ]
  },
  {
   "cell_type": "markdown",
   "metadata": {},
   "source": [
    "Removing audit entries"
   ]
  },
  {
   "cell_type": "code",
   "execution_count": 35,
   "metadata": {
    "collapsed": false
   },
   "outputs": [],
   "source": [
    "newDF = newDF[newDF.DESC != 'RECOVR AUD']"
   ]
  },
  {
   "cell_type": "markdown",
   "metadata": {},
   "source": [
    "remove outlier by kicking out all negative incr_ENTRIES and incr_EXITS"
   ]
  },
  {
   "cell_type": "code",
   "execution_count": 36,
   "metadata": {
    "collapsed": false
   },
   "outputs": [],
   "source": [
    "newDF = newDF.loc[(newDF['Incr_ENTRIES']>0) & (newDF['Incr_EXITS']>0),]"
   ]
  },
  {
   "cell_type": "code",
   "execution_count": 37,
   "metadata": {
    "collapsed": false
   },
   "outputs": [
    {
     "data": {
      "text/plain": [
       "count    1.435075e+06\n",
       "mean     5.778730e+03\n",
       "std      2.975335e+06\n",
       "min      1.000000e+00\n",
       "25%      3.400000e+01\n",
       "50%      1.220000e+02\n",
       "75%      3.010000e+02\n",
       "max      2.020572e+09\n",
       "Name: Incr_ENTRIES, dtype: float64"
      ]
     },
     "execution_count": 37,
     "metadata": {},
     "output_type": "execute_result"
    }
   ],
   "source": [
    "newDF['Incr_ENTRIES'].describe()"
   ]
  },
  {
   "cell_type": "code",
   "execution_count": 38,
   "metadata": {
    "collapsed": false
   },
   "outputs": [],
   "source": [
    "newDF['totalFootTraffic'] = newDF['Incr_ENTRIES'] + newDF['Incr_EXITS']"
   ]
  },
  {
   "cell_type": "code",
   "execution_count": 41,
   "metadata": {
    "collapsed": false
   },
   "outputs": [
    {
     "data": {
      "text/html": [
       "<div>\n",
       "<table border=\"1\" class=\"dataframe\">\n",
       "  <thead>\n",
       "    <tr style=\"text-align: right;\">\n",
       "      <th></th>\n",
       "      <th>sum</th>\n",
       "    </tr>\n",
       "    <tr>\n",
       "      <th>STATION</th>\n",
       "      <th></th>\n",
       "    </tr>\n",
       "  </thead>\n",
       "  <tbody>\n",
       "    <tr>\n",
       "      <th>57 ST</th>\n",
       "      <td>3.459017e+09</td>\n",
       "    </tr>\n",
       "    <tr>\n",
       "      <th>18 AV</th>\n",
       "      <td>3.404523e+09</td>\n",
       "    </tr>\n",
       "    <tr>\n",
       "      <th>59 ST</th>\n",
       "      <td>2.722977e+09</td>\n",
       "    </tr>\n",
       "    <tr>\n",
       "      <th>MORISN AV/SNDVW</th>\n",
       "      <td>1.554872e+09</td>\n",
       "    </tr>\n",
       "    <tr>\n",
       "      <th>LORIMER ST</th>\n",
       "      <td>1.003559e+09</td>\n",
       "    </tr>\n",
       "    <tr>\n",
       "      <th>86 ST</th>\n",
       "      <td>1.759065e+08</td>\n",
       "    </tr>\n",
       "    <tr>\n",
       "      <th>28 ST</th>\n",
       "      <td>1.382835e+08</td>\n",
       "    </tr>\n",
       "    <tr>\n",
       "      <th>47-50 STS ROCK</th>\n",
       "      <td>1.022195e+08</td>\n",
       "    </tr>\n",
       "    <tr>\n",
       "      <th>TIMES SQ-42 ST</th>\n",
       "      <td>9.368863e+07</td>\n",
       "    </tr>\n",
       "    <tr>\n",
       "      <th>3 AV-149 ST</th>\n",
       "      <td>8.554408e+07</td>\n",
       "    </tr>\n",
       "    <tr>\n",
       "      <th>GRD CNTRL-42 ST</th>\n",
       "      <td>5.592002e+07</td>\n",
       "    </tr>\n",
       "    <tr>\n",
       "      <th>72 ST-2 AVE</th>\n",
       "      <td>3.625376e+07</td>\n",
       "    </tr>\n",
       "    <tr>\n",
       "      <th>34 ST-PENN STA</th>\n",
       "      <td>1.660552e+07</td>\n",
       "    </tr>\n",
       "    <tr>\n",
       "      <th>34 ST-HERALD SQ</th>\n",
       "      <td>1.224410e+07</td>\n",
       "    </tr>\n",
       "    <tr>\n",
       "      <th>23 ST</th>\n",
       "      <td>1.095250e+07</td>\n",
       "    </tr>\n",
       "    <tr>\n",
       "      <th>14 ST-UNION SQ</th>\n",
       "      <td>1.094491e+07</td>\n",
       "    </tr>\n",
       "    <tr>\n",
       "      <th>42 ST-PORT AUTH</th>\n",
       "      <td>9.073339e+06</td>\n",
       "    </tr>\n",
       "    <tr>\n",
       "      <th>FULTON ST</th>\n",
       "      <td>8.872094e+06</td>\n",
       "    </tr>\n",
       "    <tr>\n",
       "      <th>59 ST COLUMBUS</th>\n",
       "      <td>7.284974e+06</td>\n",
       "    </tr>\n",
       "    <tr>\n",
       "      <th>125 ST</th>\n",
       "      <td>7.239485e+06</td>\n",
       "    </tr>\n",
       "  </tbody>\n",
       "</table>\n",
       "</div>"
      ],
      "text/plain": [
       "                          sum\n",
       "STATION                      \n",
       "57 ST            3.459017e+09\n",
       "18 AV            3.404523e+09\n",
       "59 ST            2.722977e+09\n",
       "MORISN AV/SNDVW  1.554872e+09\n",
       "LORIMER ST       1.003559e+09\n",
       "86 ST            1.759065e+08\n",
       "28 ST            1.382835e+08\n",
       "47-50 STS ROCK   1.022195e+08\n",
       "TIMES SQ-42 ST   9.368863e+07\n",
       "3 AV-149 ST      8.554408e+07\n",
       "GRD CNTRL-42 ST  5.592002e+07\n",
       "72 ST-2 AVE      3.625376e+07\n",
       "34 ST-PENN STA   1.660552e+07\n",
       "34 ST-HERALD SQ  1.224410e+07\n",
       "23 ST            1.095250e+07\n",
       "14 ST-UNION SQ   1.094491e+07\n",
       "42 ST-PORT AUTH  9.073339e+06\n",
       "FULTON ST        8.872094e+06\n",
       "59 ST COLUMBUS   7.284974e+06\n",
       "125 ST           7.239485e+06"
      ]
     },
     "execution_count": 41,
     "metadata": {},
     "output_type": "execute_result"
    }
   ],
   "source": [
    "key = ['C/A',\n",
    "'UNIT',\n",
    "'SCP',\n",
    "'STATION']\n",
    "\n",
    "newDF.groupby(['STATION']).totalFootTraffic.agg(['sum']).sort_values('sum', ascending=False).head(20)\n",
    "#newDF.groupby(key, as_index=False).totalFootTraffic.agg(['sum']).sort_values('sum', ascending=False).reset_index()\n",
    "#newDF.groupby(key, as_index=False).totalFootTraffic.agg(['sum']).sort_values('sum', ascending=False).reset_index()"
   ]
  },
  {
   "cell_type": "code",
   "execution_count": 42,
   "metadata": {
    "collapsed": false
   },
   "outputs": [
    {
     "data": {
      "text/plain": [
       "count    1.435075e+06\n",
       "mean     5.778730e+03\n",
       "std      2.975335e+06\n",
       "min      1.000000e+00\n",
       "25%      3.400000e+01\n",
       "50%      1.220000e+02\n",
       "75%      3.010000e+02\n",
       "max      2.020572e+09\n",
       "Name: Incr_ENTRIES, dtype: float64"
      ]
     },
     "execution_count": 42,
     "metadata": {},
     "output_type": "execute_result"
    }
   ],
   "source": [
    "newDF.Incr_ENTRIES.describe()"
   ]
  },
  {
   "cell_type": "markdown",
   "metadata": {},
   "source": [
    "Removing rows where the change between two adjacent lines is too large"
   ]
  },
  {
   "cell_type": "code",
   "execution_count": 43,
   "metadata": {
    "collapsed": false
   },
   "outputs": [],
   "source": [
    "newDF = newDF.loc[(newDF.Incr_ENTRIES < 20000) & (newDF.Incr_EXITS < 20000),]"
   ]
  },
  {
   "cell_type": "code",
   "execution_count": 44,
   "metadata": {
    "collapsed": false,
    "scrolled": true
   },
   "outputs": [
    {
     "data": {
      "text/plain": [
       "count    1.435026e+06\n",
       "mean     2.189270e+02\n",
       "std      2.741281e+02\n",
       "min      1.000000e+00\n",
       "25%      3.400000e+01\n",
       "50%      1.220000e+02\n",
       "75%      3.010000e+02\n",
       "max      5.960000e+03\n",
       "Name: Incr_ENTRIES, dtype: float64"
      ]
     },
     "execution_count": 44,
     "metadata": {},
     "output_type": "execute_result"
    }
   ],
   "source": [
    "newDF.Incr_ENTRIES.describe()"
   ]
  },
  {
   "cell_type": "code",
   "execution_count": 45,
   "metadata": {
    "collapsed": false
   },
   "outputs": [
    {
     "data": {
      "text/plain": [
       "count    33629.000000\n",
       "mean       493.785631\n",
       "std        520.077899\n",
       "min          2.000000\n",
       "25%        105.000000\n",
       "50%        339.000000\n",
       "75%        692.000000\n",
       "max       7732.000000\n",
       "Name: totalFootTraffic, dtype: float64"
      ]
     },
     "execution_count": 45,
     "metadata": {},
     "output_type": "execute_result"
    }
   ],
   "source": [
    "newDF[(newDF.STATION =='34 ST-PENN STA')].totalFootTraffic.describe()"
   ]
  },
  {
   "cell_type": "markdown",
   "metadata": {},
   "source": [
    "Now it looks better"
   ]
  },
  {
   "cell_type": "code",
   "execution_count": 49,
   "metadata": {
    "collapsed": false,
    "scrolled": false
   },
   "outputs": [
    {
     "data": {
      "text/html": [
       "<div>\n",
       "<table border=\"1\" class=\"dataframe\">\n",
       "  <thead>\n",
       "    <tr style=\"text-align: right;\">\n",
       "      <th></th>\n",
       "      <th>sum</th>\n",
       "    </tr>\n",
       "    <tr>\n",
       "      <th>STATION</th>\n",
       "      <th></th>\n",
       "    </tr>\n",
       "  </thead>\n",
       "  <tbody>\n",
       "    <tr>\n",
       "      <th>34 ST-PENN STA</th>\n",
       "      <td>16605517.0</td>\n",
       "    </tr>\n",
       "    <tr>\n",
       "      <th>GRD CNTRL-42 ST</th>\n",
       "      <td>14322318.0</td>\n",
       "    </tr>\n",
       "    <tr>\n",
       "      <th>34 ST-HERALD SQ</th>\n",
       "      <td>12244105.0</td>\n",
       "    </tr>\n",
       "    <tr>\n",
       "      <th>23 ST</th>\n",
       "      <td>10952504.0</td>\n",
       "    </tr>\n",
       "    <tr>\n",
       "      <th>14 ST-UNION SQ</th>\n",
       "      <td>10944910.0</td>\n",
       "    </tr>\n",
       "    <tr>\n",
       "      <th>TIMES SQ-42 ST</th>\n",
       "      <td>10381959.0</td>\n",
       "    </tr>\n",
       "    <tr>\n",
       "      <th>42 ST-PORT AUTH</th>\n",
       "      <td>9073339.0</td>\n",
       "    </tr>\n",
       "    <tr>\n",
       "      <th>FULTON ST</th>\n",
       "      <td>8872094.0</td>\n",
       "    </tr>\n",
       "    <tr>\n",
       "      <th>86 ST</th>\n",
       "      <td>8764723.0</td>\n",
       "    </tr>\n",
       "    <tr>\n",
       "      <th>59 ST COLUMBUS</th>\n",
       "      <td>7284974.0</td>\n",
       "    </tr>\n",
       "  </tbody>\n",
       "</table>\n",
       "</div>"
      ],
      "text/plain": [
       "                        sum\n",
       "STATION                    \n",
       "34 ST-PENN STA   16605517.0\n",
       "GRD CNTRL-42 ST  14322318.0\n",
       "34 ST-HERALD SQ  12244105.0\n",
       "23 ST            10952504.0\n",
       "14 ST-UNION SQ   10944910.0\n",
       "TIMES SQ-42 ST   10381959.0\n",
       "42 ST-PORT AUTH   9073339.0\n",
       "FULTON ST         8872094.0\n",
       "86 ST             8764723.0\n",
       "59 ST COLUMBUS    7284974.0"
      ]
     },
     "execution_count": 49,
     "metadata": {},
     "output_type": "execute_result"
    }
   ],
   "source": [
    "newDF.groupby(['STATION']).totalFootTraffic.agg(['sum']).sort_values('sum', ascending=False).head(10)"
   ]
  },
  {
   "cell_type": "markdown",
   "metadata": {},
   "source": [
    "**For clean data use newDF from this point on**"
   ]
  },
  {
   "cell_type": "markdown",
   "metadata": {},
   "source": [
    "Top 10 busiest station"
   ]
  },
  {
   "cell_type": "code",
   "execution_count": 52,
   "metadata": {
    "collapsed": false
   },
   "outputs": [
    {
     "data": {
      "image/png": "[encoded data removed]",
      "text/plain": [
       "<matplotlib.figure.Figure at 0x1322ba828>"
      ]
     },
     "metadata": {},
     "output_type": "display_data"
    }
   ],
   "source": [
    "plt.figure(figsize=(14, 8))\n",
    "plt.title(\"Total Traffic For Top 10 Stations\")\n",
    "graph1DF = newDF.groupby(['STATION']).totalFootTraffic.agg(['sum']).reset_index()\n",
    "graph1DF = graph1DF.nlargest(10,'sum')\n",
    "sns.barplot(x=\"sum\", y=\"STATION\", orient = \"h\", data=graph1DF, palette = \"Blues_d\")\n",
    "plt.savefig('10TopStations.png', dpi = 1000)"
   ]
  },
  {
   "cell_type": "code",
   "execution_count": 53,
   "metadata": {
    "collapsed": true
   },
   "outputs": [],
   "source": [
    "newDF['dayOfWeek'] = newDF.dateTime.dt.weekday_name"
   ]
  },
  {
   "cell_type": "code",
   "execution_count": 54,
   "metadata": {
    "collapsed": true
   },
   "outputs": [],
   "source": [
    "newDF['IsWeekday'] = False\n",
    "newDF.loc[(newDF.dayOfWeek != 'Sunday') & (newDF.dayOfWeek != 'Saturday'),'IsWeekday'] = True"
   ]
  },
  {
   "cell_type": "markdown",
   "metadata": {},
   "source": [
    "Avg. Entries for Top 10 Stations"
   ]
  },
  {
   "cell_type": "code",
   "execution_count": 56,
   "metadata": {
    "collapsed": false
   },
   "outputs": [
    {
     "data": {
      "image/png": "[encoded data removed]",
      "text/plain": [
       "<matplotlib.figure.Figure at 0x13d31f3c8>"
      ]
     },
     "metadata": {},
     "output_type": "display_data"
    }
   ],
   "source": [
    "#Avg Entries For Top 10 Stations\n",
    "entriesByStDt = newDF.groupby(['STATION','DATE','dayOfWeek']).Incr_ENTRIES.sum().reset_index()\n",
    "\n",
    "top10St = entriesByStDt.groupby('STATION').Incr_ENTRIES.sum().reset_index().nlargest(10,'Incr_ENTRIES')[['STATION']]\n",
    "\n",
    "entriesTop10St = top10St.merge(entriesByStDt, on='STATION')\n",
    "\n",
    "plt.figure(figsize=(14, 8))\n",
    "plt.title(\"Avg Entries For Top 10 Stations\")\n",
    "ax = sns.barplot(x=\"Incr_ENTRIES\", y=\"STATION\", orient = \"h\", data=entriesTop10St, ci=None, palette = \"Reds_d\")\n",
    "ax.set(xlabel='Avg. Entries', ylabel='STATION')\n",
    "\n",
    "plt.savefig('AverageEntriesForTop10Stations.png', dpi=1000)"
   ]
  },
  {
   "cell_type": "markdown",
   "metadata": {},
   "source": [
    "Generate map with 10 top busiest stations mapped"
   ]
  },
  {
   "cell_type": "code",
   "execution_count": 57,
   "metadata": {
    "collapsed": true
   },
   "outputs": [],
   "source": [
    "from bokeh.io import output_file, show\n",
    "from bokeh.models import (\n",
    "  GMapPlot, GMapOptions, ColumnDataSource, Circle, DataRange1d, PanTool, WheelZoomTool, BoxSelectTool\n",
    ")"
   ]
  },
  {
   "cell_type": "code",
   "execution_count": 58,
   "metadata": {
    "collapsed": true
   },
   "outputs": [],
   "source": [
    "map_options = GMapOptions(lat=40.70, lng=-73.85, map_type=\"roadmap\", zoom=11)\n",
    "\n",
    "plot = GMapPlot(\n",
    "    x_range=DataRange1d(), y_range=DataRange1d(), map_options=map_options\n",
    ")"
   ]
  },
  {
   "cell_type": "code",
   "execution_count": 59,
   "metadata": {
    "collapsed": false
   },
   "outputs": [],
   "source": [
    "%matplotlib inline\n",
    "plot.api_key = \"bokeh api key here\"\n",
    "\n",
    "\n",
    "### grnd central, penn, 34th herald square, 23 st, 14stunion sq, times sq 42, 42nd st port, fulton, 86th st, 125th st\n",
    "source = ColumnDataSource(\n",
    "    data=dict(\n",
    "        lat=[40.751849, 40.749533, 40.752247, 40.757303, 40.734836, 40.755905, 40.709938, 40.758652, 40.76811, 40.759578],\n",
    "        lon=[-73.976945, -73.987899, -73.993456, -73.989787, -73.990688, -73.986504, -74.007983, -73.981311, -73.981891,-73.830056],\n",
    "    )\n",
    ")\n",
    "\n",
    "circle = Circle(x=\"lon\", y=\"lat\", size=8, fill_color=\"red\", fill_alpha=0.6, line_color=None)\n",
    "plot.add_glyph(source, circle)\n",
    "\n",
    "plot.add_tools(PanTool(), WheelZoomTool(), BoxSelectTool())\n",
    "output_file(\"gmap_plot.html\")\n",
    "show(plot)"
   ]
  },
  {
   "cell_type": "code",
   "execution_count": 60,
   "metadata": {
    "collapsed": true
   },
   "outputs": [],
   "source": [
    "newDF['hour'] = newDF.dateTime.dt.hour"
   ]
  },
  {
   "cell_type": "code",
   "execution_count": 61,
   "metadata": {
    "collapsed": false
   },
   "outputs": [],
   "source": [
    "key = ['C/A',\n",
    "'UNIT',\n",
    "'SCP',\n",
    "'STATION',\n",
    "'DATE']\n",
    "\n",
    "newDF['interval'] = newDF.groupby(key).hour.apply(lambda x: pd.cut(x,[0,4,8,12,16,20,24]))\n",
    "\n",
    "#newDF.TIME.value_counts().head(15)\n",
    "compactedByTimeInterval = newDF.groupby(['C/A',\n",
    "'UNIT',\n",
    "'SCP',\n",
    "'STATION',\n",
    "'DATE',\n",
    "'interval']).Incr_ENTRIES.sum().reset_index()\n",
    "\n",
    "compactedByTimeInterval['dayOfWeek'] = pd.to_datetime(compactedByTimeInterval.DATE).dt.weekday_name"
   ]
  },
  {
   "cell_type": "code",
   "execution_count": 62,
   "metadata": {
    "collapsed": false
   },
   "outputs": [
    {
     "data": {
      "image/png": "[encoded data removed]",
      "text/plain": [
       "<matplotlib.figure.Figure at 0x103669c88>"
      ]
     },
     "metadata": {},
     "output_type": "display_data"
    }
   ],
   "source": [
    "t = (compactedByTimeInterval[(compactedByTimeInterval.dayOfWeek != 'Sunday') & (compactedByTimeInterval.dayOfWeek != 'Saturday')]\n",
    " .groupby(['STATION', 'DATE','dayOfWeek', 'interval'])\n",
    " .Incr_ENTRIES.sum()\n",
    " .reset_index()\n",
    " .merge(top10St, on='STATION', how='right')\n",
    " .groupby(['STATION','dayOfWeek','interval'])\n",
    " .Incr_ENTRIES.sum()\n",
    " .reset_index()\n",
    ")\n",
    "t2 = top10St.head(5).merge(t, on='STATION')\n",
    "\n",
    "fig = plt.figure()\n",
    "ax = sns.swarmplot(x=\"interval\", y=\"Incr_ENTRIES\", hue='STATION', data=t2,size=9);\n",
    "ax.set_title('Entries into Busiest Stations by Time, weekdays')\n",
    "ax.set_ylabel('Avg. Entries')\n",
    "ax.set_xlabel('Time')\n",
    "fig.set_size_inches(14,8)\n",
    "fig.savefig('entriesIntoBusiestStations.png',dpi=1000)"
   ]
  },
  {
   "cell_type": "code",
   "execution_count": 45,
   "metadata": {
    "collapsed": false
   },
   "outputs": [
    {
     "data": {
      "image/png": "[encoded data removed]",
      "text/plain": [
       "<matplotlib.figure.Figure at 0x117f06320>"
      ]
     },
     "metadata": {},
     "output_type": "display_data"
    }
   ],
   "source": [
    "top10 = list(newDF.groupby(['STATION']).Incr_ENTRIES.agg(['sum']).sort_values('sum', ascending=False).head(10).reset_index()['STATION'])\n",
    "tDF = newDF.groupby([\n",
    "'STATION',\n",
    " 'DATE','dayOfWeek']).Incr_ENTRIES.agg(\"sum\").reset_index()\n",
    "\n",
    "tDF2 = tDF[tDF.STATION.isin(top10)]\n",
    "tDF3 = tDF2.groupby([\"STATION\", \"dayOfWeek\"]).Incr_ENTRIES.mean().reset_index()\n",
    "tDF3\n",
    "tDF4 = tDF3.pivot(\"STATION\", \"dayOfWeek\", \"Incr_ENTRIES\")\n",
    "tDF4 = tDF4[[\"Sunday\", \"Monday\", \"Tuesday\", \"Wednesday\", \"Thursday\", \"Friday\", \"Saturday\"]]\n",
    "fig = plt.figure()\n",
    "sns.heatmap(tDF4)\n",
    "plt.xticks(rotation=\"vertical\")\n",
    "plt.title(\"Mean Entry Ridership by Day\")\n",
    "fig.set_size_inches(14,8)\n",
    "fig.savefig(\"MeanEntriesbyDay.png\",dpi=1000)"
   ]
  },
  {
   "cell_type": "code",
   "execution_count": null,
   "metadata": {
    "collapsed": true
   },
   "outputs": [],
   "source": []
  }
 ],
 "metadata": {
  "celltoolbar": "Raw Cell Format",
  "kernelspec": {
   "display_name": "Python 3",
   "language": "python",
   "name": "python3"
  },
  "language_info": {
   "codemirror_mode": {
    "name": "ipython",
    "version": 3
   },
   "file_extension": ".py",
   "mimetype": "text/x-python",
   "name": "python",
   "nbconvert_exporter": "python",
   "pygments_lexer": "ipython3",
   "version": "3.6.0"
  }
 },
 "nbformat": 4,
 "nbformat_minor": 2
}
